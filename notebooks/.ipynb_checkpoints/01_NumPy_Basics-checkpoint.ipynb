{
 "cells": [
  {
   "cell_type": "markdown",
   "metadata": {},
   "source": [
    "## Numpy 核心"
   ]
  },
  {
   "cell_type": "markdown",
   "metadata": {},
   "source": [
    "### 1.NumPy 基础\n",
    "\n",
    "- 学习内容:\n",
    "\n",
    "    - 了解 NumPy ndarray (N-dimensional array) 的概念，它是 NumPy 的核心数据结构。\n",
    "\n",
    "    - 如何使用 np.array() 从 Python 列表或元组创建数组。\n",
    "\n",
    "    - 理解数组的 ndim (维度数量)、shape (形状)、size (元素总数) 和 dtype (数据类型)。"
   ]
  },
  {
   "cell_type": "code",
   "execution_count": 1,
   "metadata": {
    "ExecuteTime": {
     "end_time": "2025-07-26T14:31:58.402444Z",
     "start_time": "2025-07-26T14:31:58.269253Z"
    }
   },
   "outputs": [
    {
     "name": "stdout",
     "output_type": "stream",
     "text": [
      "1.24.3\n"
     ]
    }
   ],
   "source": [
    "import numpy as np\n",
    "print(np.__version__)"
   ]
  },
  {
   "cell_type": "code",
   "execution_count": 2,
   "metadata": {
    "ExecuteTime": {
     "end_time": "2025-07-26T14:31:58.475249Z",
     "start_time": "2025-07-26T14:31:58.444297Z"
    }
   },
   "outputs": [
    {
     "name": "stdout",
     "output_type": "stream",
     "text": [
      "arr1: [1 2 3 4 5]\n",
      "ndim: 1 shape: (5,) size: 5 dtype: int32\n",
      "\n",
      "arr2:\n",
      " [[1 2 3]\n",
      " [4 5 6]]\n",
      "ndim: 2 shape: (2, 3) size: 6 dtype: int32\n",
      "\n",
      "img_tensor:\n",
      " [[[255   0   0]\n",
      "  [  0 255   0]]\n",
      "\n",
      " [[  0   0 255]\n",
      "  [255 255   0]]]\n",
      "ndim: 3 shape: (2, 2, 3) size: 12 dtype: int32\n"
     ]
    }
   ],
   "source": [
    "# 创建一维数组\n",
    "arr1 = np.array([1, 2, 3, 4, 5])\n",
    "print(\"arr1:\", arr1)\n",
    "print(\"ndim:\", arr1.ndim, \"shape:\", arr1.shape, \"size:\", arr1.size, \"dtype:\", arr1.dtype)\n",
    "\n",
    "# 创建二维数组 (矩阵)\n",
    "arr2 = np.array([[1, 2, 3], [4, 5, 6]])\n",
    "print(\"\\narr2:\\n\", arr2)\n",
    "print(\"ndim:\", arr2.ndim, \"shape:\", arr2.shape, \"size:\", arr2.size, \"dtype:\", arr2.dtype)\n",
    "\n",
    "# 创建三维数组 (图像数据常为三维)\n",
    "# 模拟一个 2x2 像素的 RGB 图像 (高x宽x通道)\n",
    "img_tensor = np.array([\n",
    "    [[255, 0, 0], [0, 255, 0]],  # 第一行像素 (红, 绿)\n",
    "    [[0, 0, 255], [255, 255, 0]] # 第二行像素 (蓝, 黄)\n",
    "])\n",
    "print(\"\\nimg_tensor:\\n\", img_tensor)\n",
    "print(\"ndim:\", img_tensor.ndim, \"shape:\", img_tensor.shape, \"size:\", img_tensor.size, \"dtype:\", img_tensor.dtype)"
   ]
  },
  {
   "cell_type": "markdown",
   "metadata": {},
   "source": [
    "### 2.数组创建方法\n",
    "- 学习内容：\n",
    "    - 理解 np.zeros(), np.ones(), np.empty() 用于创建指定形状和数据类型的数组。\n",
    "    - np.arange() 和 np.linspace() 用于创建等差数列。\n",
    "    - np.random 模块用于创建随机数组。\n"
   ]
  },
  {
   "cell_type": "code",
   "execution_count": 3,
   "metadata": {
    "ExecuteTime": {
     "end_time": "2025-07-26T14:31:58.536084Z",
     "start_time": "2025-07-26T14:31:58.451279Z"
    }
   },
   "outputs": [
    {
     "name": "stdout",
     "output_type": "stream",
     "text": [
      "\n",
      " zeros_arr: \n",
      " [[0. 0. 0. 0.]\n",
      " [0. 0. 0. 0.]\n",
      " [0. 0. 0. 0.]]\n",
      "\n",
      " ones_arr: \n",
      " [[1. 1. 1. 1. 1. 1.]\n",
      " [1. 1. 1. 1. 1. 1.]]\n",
      "\n",
      " rand_arr: \n",
      " [[0.38436212 0.41512185 0.83971275]\n",
      " [0.24844663 0.3151401  0.80132622]]\n",
      "\n",
      " rand_arr_1: \n",
      " [0.18995139 0.16968977 0.61309699 0.87313186 0.38856064 0.91523941\n",
      " 0.76974998 0.50999628 0.95683048 0.22106762 0.46260687 0.86200716]\n",
      "\n",
      "range_arr: [0 2 4 6 8]\n",
      "linspace_arr: [0.   0.25 0.5  0.75 1.  ]\n"
     ]
    }
   ],
   "source": [
    "# 全零数组\n",
    "zeros_arr = np.zeros((3,4));\n",
    "print(\"\\n zeros_arr: \\n\",zeros_arr);\n",
    "\n",
    "# allones array\n",
    "ones_arr = np.ones((2,6));\n",
    "print(\"\\n ones_arr: \\n\",ones_arr);\n",
    "\n",
    "#random array\n",
    "rand_arr = np.random.rand(2,3);\n",
    "rand_arr_1 = np.random.random(12);\n",
    "print(\"\\n rand_arr: \\n\",rand_arr); # a random number between 0 and 1\n",
    "print(\"\\n rand_arr_1: \\n\",rand_arr_1);\n",
    "\n",
    "# 等差数列\n",
    "range_arr = np.arange(0, 10, 2) # from 0 to 10, step size equals 2.\n",
    "print(\"\\nrange_arr:\", range_arr)\n",
    "\n",
    "linspace_arr = np.linspace(0, 1, 5) # from 0 to 1, choose 5 points evenly\n",
    "print(\"linspace_arr:\", linspace_arr)"
   ]
  },
  {
   "cell_type": "markdown",
   "metadata": {},
   "source": [
    "### 3.数组索引、切片与形状操作\n",
    "- 学习内容：\n",
    "    - 索引: 类似于 Python 列表，但支持多维索引。\n",
    "\n",
    "    - 切片: 使用 : 进行切片，可以提取数组的子集。\n",
    "\n",
    "    - 布尔索引: 使用布尔数组作为索引进行条件筛选。\n",
    "\n",
    "    - 花式索引: 使用整数数组作为索引，可以获取不连续的元素。\n",
    "\n",
    "    - 形状操作: reshape(), resize(), flatten(), ravel(), transpose(), T (转置)。"
   ]
  },
  {
   "cell_type": "code",
   "execution_count": 7,
   "metadata": {},
   "outputs": [
    {
     "name": "stdout",
     "output_type": "stream",
     "text": [
      "Original arr:\n",
      " [[1 2 3]\n",
      " [4 5 6]\n",
      " [7 8 9]]\n",
      "\n",
      "Element at (0, 0): 1\n",
      "Second row: [4 5 6]\n",
      "\n",
      "First two rows, all columns: \n",
      " [[1 2 3]\n",
      " [4 5 6]]\n",
      "All rows, last column: \n",
      " [3 6 9]\n",
      "Sub-array(middle 2×2): \n",
      " [[2 3]\n",
      " [5 6]]\n",
      "\n",
      "Elements > 5: [6 7 8 9]\n",
      "Fancy indexing: [1 6 8]\n",
      "\n",
      "Reshaped to 1x9:\n",
      " [[1 2 3 4 5 6 7 8 9]]\n",
      "Transposed arr:\n",
      " [[1 4 7]\n",
      " [2 5 8]\n",
      " [3 6 9]]\n",
      "Flattened arr: [1 2 3 4 5 6 7 8 9]\n",
      "Raveled arr: [1 2 3 4 5 6 7 8 9]\n"
     ]
    }
   ],
   "source": [
    "arr = np.array([[1, 2, 3],[4, 5, 6],[7, 8, 9]])\n",
    "print(\"Original arr:\\n\",arr)\n",
    "\n",
    "# 索引\n",
    "print(\"\\nElement at (0, 0):\", arr[0, 0]) # 访问第一行第一列\n",
    "print(\"Second row:\", arr[1]) # 访问第二行\n",
    "\n",
    "# 切片\n",
    "print(\"\\nFirst two rows, all columns: \\n\", arr[:2, :])\n",
    "print(\"All rows, last column: \\n\", arr[:, 2])\n",
    "print(\"Sub-array(middle 2×2): \\n\", arr[0:2, 1:3]) #提取2×2子数组\n",
    "\n",
    "# 布尔索引 (找出所有大于5的元素)\n",
    "print(\"\\nElements > 5:\", arr[arr > 5])\n",
    "\n",
    "# 花式索引 (访问 (0,0), (1,2), (2,1) 位置的元素)\n",
    "print(\"Fancy indexing:\", arr[[0, 1, 2], [0, 2, 1]])\n",
    "\n",
    "# 形状操作\n",
    "# reshape: 不改变数据，只改变视图\n",
    "reshaped_arr = arr.reshape(1, 9)\n",
    "print(\"\\nReshaped to 1x9:\\n\", reshaped_arr)\n",
    "\n",
    "# transpose: 转置 (行变列，列变行)\n",
    "transposed_arr = arr.T\n",
    "print(\"Transposed arr:\\n\", transposed_arr)\n",
    "\n",
    "# flatten: 将多维数组展平为一维数组 (返回副本)\n",
    "flat_arr = arr.flatten()\n",
    "print(\"Flattened arr:\", flat_arr)\n",
    "\n",
    "# ravel: 将多维数组展平为一维数组 (返回视图或副本)\n",
    "raveled_arr = arr.ravel()\n",
    "print(\"Raveled arr:\", raveled_arr)\n"
   ]
  },
  {
   "cell_type": "markdown",
   "metadata": {},
   "source": [
    "### 课后思考与拓展\n",
    "- 尝试将一个模拟的 RGB 图像（例如 10x10x3 的 NumPy 数组）进行切片，提取出红色通道或某个区域的像素。\n",
    "- 思考 reshape() 和 resize() 的区别，以及 flatten() 和 ravel() 的区别。"
   ]
  },
  {
   "cell_type": "code",
   "execution_count": 9,
   "metadata": {},
   "outputs": [
    {
     "name": "stdout",
     "output_type": "stream",
     "text": [
      "[[[147 247  88]\n",
      "  [206  18  52]\n",
      "  [116 167   7]\n",
      "  [171 230  26]\n",
      "  [108  59 254]\n",
      "  [  8 164  57]\n",
      "  [ 90  26 182]\n",
      "  [ 85 206  94]\n",
      "  [139 117 178]\n",
      "  [204  53 134]]\n",
      "\n",
      " [[ 64 114  71]\n",
      "  [253 251  58]\n",
      "  [  2 116 178]\n",
      "  [ 52 180  91]\n",
      "  [141  62  33]\n",
      "  [215  80  28]\n",
      "  [150  44 163]\n",
      "  [ 54 144 116]\n",
      "  [ 42 147 157]\n",
      "  [ 68 228 139]]\n",
      "\n",
      " [[199 223  53]\n",
      "  [ 24 142  98]\n",
      "  [221  52  36]\n",
      "  [ 45  93 170]\n",
      "  [157 239 175]\n",
      "  [ 96 239 107]\n",
      "  [ 34  16  65]\n",
      "  [ 56  48 237]\n",
      "  [220 243 227]\n",
      "  [205 109 211]]\n",
      "\n",
      " [[ 28 206 142]\n",
      "  [190  18  97]\n",
      "  [228  69 183]\n",
      "  [235 163  13]\n",
      "  [214 108 246]\n",
      "  [113 236 227]\n",
      "  [ 65  67 185]\n",
      "  [ 42 209  21]\n",
      "  [145   8 175]\n",
      "  [179 100  59]]\n",
      "\n",
      " [[ 64 142  48]\n",
      "  [145  55  73]\n",
      "  [116  97 169]\n",
      "  [195 195  10]\n",
      "  [ 18  59 247]\n",
      "  [235  95  23]\n",
      "  [ 62 123  64]\n",
      "  [ 25 103 239]\n",
      "  [213 187  72]\n",
      "  [101 234 182]]\n",
      "\n",
      " [[235 168 127]\n",
      "  [ 17  74  49]\n",
      "  [ 38 189 222]\n",
      "  [ 68 217 102]\n",
      "  [204 253 196]\n",
      "  [ 44 174 101]\n",
      "  [191  61 188]\n",
      "  [229 189 248]\n",
      "  [ 56 172 115]\n",
      "  [217  12 108]]\n",
      "\n",
      " [[ 63  78 145]\n",
      "  [209 141 159]\n",
      "  [130 186  98]\n",
      "  [102  51  92]\n",
      "  [116  65   5]\n",
      "  [ 43 202 141]\n",
      "  [ 78   5 151]\n",
      "  [110 254 225]\n",
      "  [150  23 144]\n",
      "  [153   7  56]]\n",
      "\n",
      " [[237 125   2]\n",
      "  [196  61  91]\n",
      "  [ 82  24 127]\n",
      "  [170 151  65]\n",
      "  [ 79  45   9]\n",
      "  [237  64 172]\n",
      "  [ 25 218 215]\n",
      "  [ 24  36  45]\n",
      "  [173  66 160]\n",
      "  [151 130 215]]\n",
      "\n",
      " [[186 252 166]\n",
      "  [220 151 164]\n",
      "  [ 98 106  67]\n",
      "  [239 226   0]\n",
      "  [209   1 177]\n",
      "  [ 91  45 163]\n",
      "  [ 90  96 149]\n",
      "  [149   0 145]\n",
      "  [162 212  53]\n",
      "  [165 245  56]]\n",
      "\n",
      " [[188 254  45]\n",
      "  [102 109 155]\n",
      "  [ 27 233 216]\n",
      "  [ 29 162 120]\n",
      "  [ 51 190 224]\n",
      "  [208 111 189]\n",
      "  [159 227 190]\n",
      "  [195  80  14]\n",
      "  [144  13 102]\n",
      "  [ 51 133 165]]]\n"
     ]
    }
   ],
   "source": [
    "RGB = np.random.randint(0,256,size = (10, 10, 3), dtype=np.uint8)\n",
    "print(RGB)"
   ]
  }
 ],
 "metadata": {
  "kernelspec": {
   "display_name": "Python 3 (ipykernel)",
   "language": "python",
   "name": "python3"
  },
  "language_info": {
   "codemirror_mode": {
    "name": "ipython",
    "version": 3
   },
   "file_extension": ".py",
   "mimetype": "text/x-python",
   "name": "python",
   "nbconvert_exporter": "python",
   "pygments_lexer": "ipython3",
   "version": "3.9.21"
  }
 },
 "nbformat": 4,
 "nbformat_minor": 1
}
