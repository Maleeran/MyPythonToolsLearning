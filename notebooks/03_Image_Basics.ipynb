{
 "cells": [
  {
   "cell_type": "markdown",
   "source": [
    "## 图像处理基础与概念"
   ],
   "metadata": {
    "collapsed": false
   }
  },
  {
   "cell_type": "markdown",
   "source": [
    "### 使用 Pillow 进行基础图像操作\n",
    "* 学习内容：\n",
    "    * 图像加载：使用`Image.open()`方法读取图像文件\n",
    "    * 基本信息: 了解图像的 `size` (尺寸)、`format` (格式) 和` mode `(色彩模式，如 'RGB' 或 'L')。\n",
    "    * 显示图像: 使用 `image.show()` 或结合 `Matplotlib` 来显示图像。\n",
    "    * 色彩模式转换: 学习如何将彩色图像转换为灰度图像。\n",
    "    * 图像尺寸调整: 使用 `image.resize()` 方法改变图像的大小。\n",
    "    * 保存图像: 使用` image.save() `方法将处理后的图像保存到文件。\n",
    "    * 图像与`NumPy`数组的转换: 理解图像数据是如何在 `Pillow Image`对象和`NumPy`数组 之间进行转换的，这是将图像数据应用到深度学习模型和张量分解中的关键一步。"
   ],
   "metadata": {
    "collapsed": false
   }
  },
  {
   "cell_type": "code",
   "execution_count": null,
   "outputs": [],
   "source": [
    "from PIL import Image\n",
    "import numpy as np\n",
    "import matplotlib.pyplot as plt\n",
    "\n",
    "# 1. 加载图像并显示\n",
    "image_path = 'data/image/JellyBeans.tiff'\n",
    "img = Image.open(image_path)\n",
    "print(f\"Image format:{img.format},size:{img.size},mode:{img.mode}\")\n",
    "plt.imshow(img)\n",
    "plt.axis('off')\n",
    "plt.show()"
   ],
   "metadata": {
    "collapsed": false,
    "ExecuteTime": {
     "start_time": "2025-08-01T17:59:38.410611Z",
     "end_time": "2025-08-01T17:59:38.658478Z"
    }
   }
  },
  {
   "cell_type": "code",
   "execution_count": null,
   "outputs": [],
   "source": [
    "# 2. 转换为灰度图像\n",
    "img_gray = img.convert('L')\n",
    "plt.axis('off')\n",
    "plt.imshow(img_gray, cmap='gray')\n",
    "plt.show()\n",
    "\n",
    "# 3. 改变图像尺寸\n",
    "img_resized = img.resize((256, 256))\n",
    "print(f\"Resized image size:{img_resized.size}\")\n",
    "plt.axis('off')\n",
    "plt.imshow(img_resized)\n",
    "\n",
    "# 4. Pillow Image对象和NumPy数组之间的转换\n",
    "# Pillow Image -> NumPy\n",
    "img_array = np.array(img)\n",
    "img_gray_array = np.array(img_gray)\n",
    "\n",
    "print(\"\\n--- Image as NumPy Array ---\")\n",
    "print(f\"Original image array shape:{img_array.shape}\")\n",
    "print(f\"Grayscale image array shape:{img_gray_array.shape}\")\n",
    "print(f\"Image array data type:{img_array.dtype}\")\n",
    "print(\"Example pixel value (top-left):\", img_array[0, 0])"
   ],
   "metadata": {
    "collapsed": false,
    "ExecuteTime": {
     "start_time": "2025-08-01T17:59:38.583609Z",
     "end_time": "2025-08-01T17:59:38.923792Z"
    }
   }
  },
  {
   "cell_type": "markdown",
   "source": [
    "### 3.理解图像作为张量的概念\n",
    "* **学习内容：**\n",
    "    * **彩色图像：** 理解彩色图像通常是一个三维张量，其形状为 `(Height, Width, Channels)`，其中 `Channels` 通常是 3 (RGB)。每一个通道都是一个二维矩阵，代表了对应颜色（红、绿、蓝）的强度。\n",
    "    * **灰度图像：** 理解灰度图像通常一个二维张量，其形状为 `(Height, Width)`。\n",
    "    * **批量图像：** 理解批量图像通常一个四维张量，其形状为 `(Batch Size, Height, Width, Channels)`。\n",
    "    * **练习：** 尝试对一个 RGB 图像 NumPy 数组进行切片，提取出其红色通道或某个像素块，并观察其形状和值。"
   ],
   "metadata": {
    "collapsed": false
   }
  },
  {
   "cell_type": "code",
   "execution_count": null,
   "outputs": [],
   "source": [
    "print(f\"\\nOriginal image tensor shape: {img_array.shape}\")\n",
    "\n",
    "# 提取红色通道（第一个通道）\n",
    "red_channel = img_array[:, :, 0]\n",
    "print(f\"Red channel tensor shape: {red_channel.shape}\")\n",
    "plt.axis('off')\n",
    "plt.imshow(red_channel, cmap='Reds')\n",
    "plt.show()\n",
    "\n",
    "# 提取图像中心的一个100x100的像素块\n",
    "height, width, _ = img_array.shape\n",
    "\n",
    "center_block = img_array[height//2-50:height//2+50, width//2-50:width//2+50, :]\n",
    "print(f\"Center block tensor shape: {center_block.shape}\")\n",
    "plt.axis('off')\n",
    "plt.imshow(center_block)\n"
   ],
   "metadata": {
    "collapsed": false,
    "ExecuteTime": {
     "start_time": "2025-08-01T17:59:38.897725Z",
     "end_time": "2025-08-01T17:59:39.236621Z"
    }
   }
  },
  {
   "cell_type": "code",
   "execution_count": null,
   "outputs": [],
   "source": [
    "fig, axes = plt.subplots(1, 2, figsize=(15, 7))\n",
    "\n",
    "# 左图：原图标注提取区域\n",
    "axes[0].imshow(img_array)\n",
    "# 绘制矩形框标注提取区域\n",
    "rect = plt.Rectangle((width//2-50, height//2-50), 100, 100,\n",
    "                    linewidth=3, edgecolor='red', facecolor='none')\n",
    "axes[0].add_patch(rect)\n",
    "axes[0].set_title('Original Image with Extracted Region', fontsize= 12)\n",
    "axes[0].axis('off')\n",
    "\n",
    "# 右图：放大显示提取的块\n",
    "axes[1].imshow(center_block)\n",
    "axes[1].set_title('Extracted Block (100×100)', fontsize=12)\n",
    "axes[1].axis('off')\n",
    "\n",
    "plt.tight_layout()\n",
    "plt.show()"
   ],
   "metadata": {
    "collapsed": false,
    "ExecuteTime": {
     "start_time": "2025-08-01T17:59:39.113485Z",
     "end_time": "2025-08-01T17:59:39.591028Z"
    }
   }
  }
 ],
 "metadata": {
  "kernelspec": {
   "display_name": "Python 3",
   "language": "python",
   "name": "python3"
  },
  "language_info": {
   "codemirror_mode": {
    "name": "ipython",
    "version": 2
   },
   "file_extension": ".py",
   "mimetype": "text/x-python",
   "name": "python",
   "nbconvert_exporter": "python",
   "pygments_lexer": "ipython2",
   "version": "2.7.6"
  }
 },
 "nbformat": 4,
 "nbformat_minor": 0
}
