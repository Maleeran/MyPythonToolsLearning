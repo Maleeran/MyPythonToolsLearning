{
 "cells": [
  {
   "cell_type": "markdown",
   "metadata": {},
   "source": [
    "## Numpy 核心"
   ]
  },
  {
   "cell_type": "markdown",
   "metadata": {},
   "source": [
    "### 1.NumPy 基础\n",
    "\n",
    "- 学习内容:\n",
    "\n",
    "    - 了解 NumPy ndarray (N-dimensional array) 的概念，它是 NumPy 的核心数据结构。\n",
    "\n",
    "    - 如何使用 np.array() 从 Python 列表或元组创建数组。\n",
    "\n",
    "    - 理解数组的 ndim (维度数量)、shape (形状)、size (元素总数) 和 dtype (数据类型)。"
   ]
  },
  {
   "cell_type": "code",
   "execution_count": 2,
   "metadata": {
    "ExecuteTime": {
     "start_time": "2025-08-01T14:53:55.625395Z",
     "end_time": "2025-08-01T14:53:57.223703Z"
    }
   },
   "outputs": [
    {
     "name": "stdout",
     "output_type": "stream",
     "text": [
      "1.24.3\n"
     ]
    }
   ],
   "source": [
    "import numpy as np\n",
    "print(np.__version__)"
   ]
  },
  {
   "cell_type": "code",
   "execution_count": 3,
   "metadata": {
    "ExecuteTime": {
     "start_time": "2025-07-27T16:04:03.918935Z",
     "end_time": "2025-07-27T16:04:03.988922Z"
    }
   },
   "outputs": [
    {
     "name": "stdout",
     "output_type": "stream",
     "text": [
      "arr1: [1 2 3 4 5]\n",
      "ndim: 1 shape: (5,) size: 5 dtype: int32\n",
      "\n",
      "arr2:\n",
      " [[1 2 3]\n",
      " [4 5 6]]\n",
      "ndim: 2 shape: (2, 3) size: 6 dtype: int32\n",
      "\n",
      "img_tensor:\n",
      " [[[255   0   0]\n",
      "  [  0 255   0]]\n",
      "\n",
      " [[  0   0 255]\n",
      "  [255 255   0]]]\n",
      "ndim: 3 shape: (2, 2, 3) size: 12 dtype: int32\n"
     ]
    }
   ],
   "source": [
    "# 创建一维数组\n",
    "arr1 = np.array([1, 2, 3, 4, 5])\n",
    "print(\"arr1:\", arr1)\n",
    "print(\"ndim:\", arr1.ndim, \"shape:\", arr1.shape, \"size:\", arr1.size, \"dtype:\", arr1.dtype)\n",
    "\n",
    "# 创建二维数组 (矩阵)\n",
    "arr2 = np.array([[1, 2, 3], [4, 5, 6]])\n",
    "print(\"\\narr2:\\n\", arr2)\n",
    "print(\"ndim:\", arr2.ndim, \"shape:\", arr2.shape, \"size:\", arr2.size, \"dtype:\", arr2.dtype)\n",
    "\n",
    "# 创建三维数组 (图像数据常为三维)\n",
    "# 模拟一个 2x2 像素的 RGB 图像 (高x宽x通道)\n",
    "img_tensor = np.array([\n",
    "    [[255, 0, 0], [0, 255, 0]],  # 第一行像素 (红, 绿)\n",
    "    [[0, 0, 255], [255, 255, 0]] # 第二行像素 (蓝, 黄)\n",
    "])\n",
    "print(\"\\nimg_tensor:\\n\", img_tensor)\n",
    "print(\"ndim:\", img_tensor.ndim, \"shape:\", img_tensor.shape, \"size:\", img_tensor.size, \"dtype:\", img_tensor.dtype)"
   ]
  },
  {
   "cell_type": "markdown",
   "metadata": {},
   "source": [
    "### 2.数组创建方法\n",
    "- 学习内容：\n",
    "    - 理解 np.zeros(), np.ones(), np.empty() 用于创建指定形状和数据类型的数组。\n",
    "    - np.arange() 和 np.linspace() 用于创建等差数列。\n",
    "    - np.random 模块用于创建随机数组。\n"
   ]
  },
  {
   "cell_type": "code",
   "execution_count": 4,
   "metadata": {
    "ExecuteTime": {
     "start_time": "2025-07-27T16:04:03.980695Z",
     "end_time": "2025-07-27T16:04:04.103050Z"
    }
   },
   "outputs": [
    {
     "name": "stdout",
     "output_type": "stream",
     "text": [
      "\n",
      " zeros_arr: \n",
      " [[0. 0. 0. 0.]\n",
      " [0. 0. 0. 0.]\n",
      " [0. 0. 0. 0.]]\n",
      "\n",
      " ones_arr: \n",
      " [[1. 1. 1. 1. 1. 1.]\n",
      " [1. 1. 1. 1. 1. 1.]]\n",
      "\n",
      " rand_arr: \n",
      " [[0.98097079 0.04541015 0.52602282]\n",
      " [0.33546392 0.74449566 0.46485487]]\n",
      "\n",
      " rand_arr_1: \n",
      " [0.3019475  0.07809184 0.2262239  0.47026684 0.66649158 0.06416107\n",
      " 0.34176695 0.29030296 0.48801337 0.56627263 0.28992894 0.39575855]\n",
      "\n",
      "range_arr: [0 2 4 6 8]\n",
      "linspace_arr: [0.   0.25 0.5  0.75 1.  ]\n"
     ]
    }
   ],
   "source": [
    "# 全零数组\n",
    "zeros_arr = np.zeros((3,4));\n",
    "print(\"\\n zeros_arr: \\n\",zeros_arr);\n",
    "\n",
    "# allones array\n",
    "ones_arr = np.ones((2,6));\n",
    "print(\"\\n ones_arr: \\n\",ones_arr);\n",
    "\n",
    "#random array\n",
    "rand_arr = np.random.rand(2,3);\n",
    "rand_arr_1 = np.random.random(12);\n",
    "print(\"\\n rand_arr: \\n\",rand_arr); # a random number between 0 and 1\n",
    "print(\"\\n rand_arr_1: \\n\",rand_arr_1);\n",
    "\n",
    "# 等差数列\n",
    "range_arr = np.arange(0, 10, 2) # from 0 to 10, step size equals 2.\n",
    "print(\"\\nrange_arr:\", range_arr)\n",
    "\n",
    "linspace_arr = np.linspace(0, 1, 5) # from 0 to 1, choose 5 points evenly\n",
    "print(\"linspace_arr:\", linspace_arr)"
   ]
  },
  {
   "cell_type": "markdown",
   "metadata": {},
   "source": [
    "### 3.数组索引、切片与形状操作\n",
    "- 学习内容：\n",
    "    - 索引: 类似于 Python 列表，但支持多维索引。\n",
    "\n",
    "    - 切片: 使用 : 进行切片，可以提取数组的子集。\n",
    "\n",
    "    - 布尔索引: 使用布尔数组作为索引进行条件筛选。\n",
    "\n",
    "    - 花式索引: 使用整数数组作为索引，可以获取不连续的元素。\n",
    "\n",
    "    - 形状操作: reshape(), resize(), flatten(), ravel(), transpose(), T (转置)。"
   ]
  },
  {
   "cell_type": "code",
   "execution_count": 5,
   "metadata": {
    "ExecuteTime": {
     "start_time": "2025-07-27T16:04:04.114176Z",
     "end_time": "2025-07-27T16:04:04.189128Z"
    }
   },
   "outputs": [
    {
     "name": "stdout",
     "output_type": "stream",
     "text": [
      "Original arr:\n",
      " [[1 2 3]\n",
      " [4 5 6]\n",
      " [7 8 9]]\n",
      "\n",
      "Element at (0, 0): 1\n",
      "Second row: [4 5 6]\n",
      "\n",
      "First two rows, all columns: \n",
      " [[1 2 3]\n",
      " [4 5 6]]\n",
      "All rows, last column: \n",
      " [3 6 9]\n",
      "Sub-array(middle 2×2): \n",
      " [[2 3]\n",
      " [5 6]]\n",
      "\n",
      "Elements > 5: [6 7 8 9]\n",
      "Fancy indexing: [1 6 8]\n",
      "\n",
      "Reshaped to 1x9:\n",
      " [[1 2 3 4 5 6 7 8 9]]\n",
      "Transposed arr:\n",
      " [[1 4 7]\n",
      " [2 5 8]\n",
      " [3 6 9]]\n",
      "Flattened arr: [1 2 3 4 5 6 7 8 9]\n",
      "Raveled arr: [1 2 3 4 5 6 7 8 9]\n"
     ]
    }
   ],
   "source": [
    "arr = np.array([[1, 2, 3],[4, 5, 6],[7, 8, 9]])\n",
    "print(\"Original arr:\\n\",arr)\n",
    "\n",
    "# 索引\n",
    "print(\"\\nElement at (0, 0):\", arr[0, 0]) # 访问第一行第一列\n",
    "print(\"Second row:\", arr[1]) # 访问第二行\n",
    "\n",
    "# 切片\n",
    "print(\"\\nFirst two rows, all columns: \\n\", arr[:2, :])\n",
    "print(\"All rows, last column: \\n\", arr[:, 2])\n",
    "print(\"Sub-array(middle 2×2): \\n\", arr[0:2, 1:3]) #提取2×2子数组\n",
    "\n",
    "# 布尔索引 (找出所有大于5的元素)\n",
    "print(\"\\nElements > 5:\", arr[arr > 5])\n",
    "\n",
    "# 花式索引 (访问 (0,0), (1,2), (2,1) 位置的元素)\n",
    "print(\"Fancy indexing:\", arr[[0, 1, 2], [0, 2, 1]])\n",
    "\n",
    "# 形状操作\n",
    "# reshape: 不改变数据，只改变视图\n",
    "reshaped_arr = arr.reshape(1, 9)\n",
    "print(\"\\nReshaped to 1x9:\\n\", reshaped_arr)\n",
    "\n",
    "# transpose: 转置 (行变列，列变行)\n",
    "transposed_arr = arr.T\n",
    "print(\"Transposed arr:\\n\", transposed_arr)\n",
    "\n",
    "# flatten: 将多维数组展平为一维数组 (返回副本)\n",
    "flat_arr = arr.flatten()\n",
    "print(\"Flattened arr:\", flat_arr)\n",
    "\n",
    "# ravel: 将多维数组展平为一维数组 (返回视图或副本)\n",
    "raveled_arr = arr.ravel()\n",
    "print(\"Raveled arr:\", raveled_arr)\n"
   ]
  },
  {
   "cell_type": "markdown",
   "metadata": {},
   "source": [
    "### 小练习\n",
    "- 尝试将一个模拟的 RGB 图像（例如 10x10x3 的 NumPy 数组）进行切片，提取出红色通道或某个区域的像素。\n",
    "- 思考 reshape() 和 resize() 的区别，以及 flatten() 和 ravel() 的区别。"
   ]
  },
  {
   "cell_type": "code",
   "execution_count": 6,
   "metadata": {
    "ExecuteTime": {
     "start_time": "2025-07-27T16:04:04.127140Z",
     "end_time": "2025-07-27T16:04:04.191124Z"
    }
   },
   "outputs": [
    {
     "name": "stdout",
     "output_type": "stream",
     "text": [
      "[[[124  74 113]\n",
      "  [160  44  71]\n",
      "  [ 45  34  47]\n",
      "  [207  31 132]\n",
      "  [217  89 117]\n",
      "  [ 64  91  94]\n",
      "  [133 113   0]\n",
      "  [123 167 171]\n",
      "  [155  38  96]\n",
      "  [136 110 215]]\n",
      "\n",
      " [[154 116 191]\n",
      "  [233 156 186]\n",
      "  [162 143  79]\n",
      "  [ 89  64 157]\n",
      "  [187 106 179]\n",
      "  [ 12 232 171]\n",
      "  [ 51  71  48]\n",
      "  [ 58 162 111]\n",
      "  [  6   0  32]\n",
      "  [ 36 204 199]]\n",
      "\n",
      " [[ 60 252  56]\n",
      "  [ 23 194  82]\n",
      "  [219  51 141]\n",
      "  [252 142  53]\n",
      "  [141  77  48]\n",
      "  [200 214 194]\n",
      "  [101  42 245]\n",
      "  [ 32 171 193]\n",
      "  [  4 251  91]\n",
      "  [214  87 165]]\n",
      "\n",
      " [[ 78 234 199]\n",
      "  [137  60  24]\n",
      "  [113 241 147]\n",
      "  [  4 128  60]\n",
      "  [  8 215 123]\n",
      "  [100  97 232]\n",
      "  [187  16  61]\n",
      "  [ 80  12  60]\n",
      "  [ 26 167  45]\n",
      "  [134  21 223]]\n",
      "\n",
      " [[ 52  32 186]\n",
      "  [ 58 166 154]\n",
      "  [ 66 189 107]\n",
      "  [ 67 211 209]\n",
      "  [125 241 141]\n",
      "  [140  29 121]\n",
      "  [193  60 143]\n",
      "  [ 28 226 194]\n",
      "  [229 181 211]\n",
      "  [177  64 198]]\n",
      "\n",
      " [[203 172  16]\n",
      "  [ 60  61  79]\n",
      "  [145  73 144]\n",
      "  [250 250 240]\n",
      "  [192  87 111]\n",
      "  [ 92  80 151]\n",
      "  [ 21 144 239]\n",
      "  [215 229 130]\n",
      "  [237 215 144]\n",
      "  [184  68 143]]\n",
      "\n",
      " [[  5 224 219]\n",
      "  [  3 178  54]\n",
      "  [195  72 137]\n",
      "  [114 182 220]\n",
      "  [225  34 211]\n",
      "  [131 204 100]\n",
      "  [239 159  71]\n",
      "  [182  37  77]\n",
      "  [236  45  65]\n",
      "  [ 21 217 143]]\n",
      "\n",
      " [[188 152  69]\n",
      "  [170 107  81]\n",
      "  [ 15  59 120]\n",
      "  [172  60 247]\n",
      "  [105  90 183]\n",
      "  [134 247 197]\n",
      "  [ 10 132  51]\n",
      "  [179  16 181]\n",
      "  [186 169  50]\n",
      "  [122 168  21]]\n",
      "\n",
      " [[183 178  18]\n",
      "  [216 182 181]\n",
      "  [205  82 164]\n",
      "  [201 248 205]\n",
      "  [244  92  86]\n",
      "  [215  60 208]\n",
      "  [ 30  53 108]\n",
      "  [ 18  11 184]\n",
      "  [ 47 250  97]\n",
      "  [ 88   0 219]]\n",
      "\n",
      " [[162 173  14]\n",
      "  [180 173 108]\n",
      "  [229 105 229]\n",
      "  [ 42 202 243]\n",
      "  [ 36  79 138]\n",
      "  [ 31 229 232]\n",
      "  [176 239   6]\n",
      "  [ 34 108 207]\n",
      "  [142 247  83]\n",
      "  [238 174 130]]]\n",
      "(10, 10)\n",
      "RED_slice: \n",
      " [[124 160  45 207 217  64 133 123 155 136]\n",
      " [154 233 162  89 187  12  51  58   6  36]\n",
      " [ 60  23 219 252 141 200 101  32   4 214]\n",
      " [ 78 137 113   4   8 100 187  80  26 134]\n",
      " [ 52  58  66  67 125 140 193  28 229 177]\n",
      " [203  60 145 250 192  92  21 215 237 184]\n",
      " [  5   3 195 114 225 131 239 182 236  21]\n",
      " [188 170  15 172 105 134  10 179 186 122]\n",
      " [183 216 205 201 244 215  30  18  47  88]\n",
      " [162 180 229  42  36  31 176  34 142 238]]\n"
     ]
    }
   ],
   "source": [
    "RGB = np.random.randint(0,256,size = (10, 10, 3), dtype=np.uint8)\n",
    "print(RGB)\n",
    "RED_slice = RGB[:,:,0]\n",
    "print(RED_slice.shape)\n",
    "print(\"RED_slice: \\n\", RED_slice)\n"
   ]
  },
  {
   "cell_type": "code",
   "execution_count": 7,
   "outputs": [
    {
     "name": "stdout",
     "output_type": "stream",
     "text": [
      "[0.07818377 0.36485419 0.56606248 0.71616202 0.43041263 0.52722555\n",
      " 0.83696074 0.32021725 0.92535586 0.22959413 0.32765357 0.46800236\n",
      " 0.1547996  0.96764903 0.97315736 0.02668965 0.44757941 0.0996094\n",
      " 0.23584466 0.79504612 0.51985729 0.28008851 0.68748046 0.61775348]\n",
      "[[0.07818377 0.36485419 0.56606248 0.71616202 0.43041263 0.52722555\n",
      "  0.83696074 0.32021725]\n",
      " [0.92535586 0.22959413 0.32765357 0.46800236 0.1547996  0.96764903\n",
      "  0.97315736 0.02668965]\n",
      " [0.44757941 0.0996094  0.23584466 0.79504612 0.51985729 0.28008851\n",
      "  0.68748046 0.61775348]]\n",
      "[[0.07818377 0.36485419 0.56606248 0.71616202]\n",
      " [0.43041263 0.52722555 0.83696074 0.32021725]\n",
      " [0.92535586 0.22959413 0.32765357 0.46800236]]\n"
     ]
    }
   ],
   "source": [
    "X = np.random.random(24)\n",
    "print(X)\n",
    "reshaped_X = X.reshape(3,8)\n",
    "print(reshaped_X)\n",
    "resized_X = np.resize(X,(3,4))\n",
    "print(resized_X)"
   ],
   "metadata": {
    "collapsed": false,
    "ExecuteTime": {
     "start_time": "2025-07-27T16:04:04.162037Z",
     "end_time": "2025-07-27T16:04:04.205319Z"
    }
   }
  },
  {
   "cell_type": "markdown",
   "source": [
    "### 3.NumPy 基本数学运算\n",
    "- 学习内容: NumPy 数组支持元素级的加减乘除运算，操作符 (+, -, *, /) 会自动对对应位置的元素进行计算。"
   ],
   "metadata": {
    "collapsed": false
   }
  },
  {
   "cell_type": "code",
   "execution_count": 15,
   "outputs": [
    {
     "name": "stdout",
     "output_type": "stream",
     "text": [
      "arr3:\n",
      " [[1 2]\n",
      " [3 4]]\n",
      "arr4:\n",
      " [[5 6]\n",
      " [7 8]]\n",
      "\n",
      " arr3 + arr4: \n",
      " [[ 6  8]\n",
      " [10 12]]\n",
      "\n",
      " arr3 * arr4: \n",
      " [[ 5 12]\n",
      " [21 32]]\n",
      "\n",
      " arr3 / arr4: \n",
      " [[0.2        0.33333333]\n",
      " [0.42857143 0.5       ]]\n",
      "\n",
      " arr3 + 10 \n",
      " [[11 12]\n",
      " [13 14]]\n",
      "\n",
      " Sum of arr3 elements：\n",
      " 10\n",
      "\n",
      " Mean of arr3 elements：\n",
      " 2.5\n",
      "\n",
      " Max number of arr3 elements：\n",
      " 4\n",
      "\n",
      " Sqrt of arr3 elements：\n",
      " [[1.         1.41421356]\n",
      " [1.73205081 2.        ]]\n"
     ]
    }
   ],
   "source": [
    "arr3 = np.array([[1, 2], [3, 4]])\n",
    "arr4 = np.array([[5, 6], [7, 8]])\n",
    "\n",
    "print(\"arr3:\\n\",arr3)\n",
    "print(\"arr4:\\n\",arr4)\n",
    "\n",
    "#元素加法\n",
    "print(\"\\n arr3 + arr4: \\n\",arr3 + arr4)\n",
    "\n",
    "# 元素级乘法\n",
    "print(\"\\n arr3 * arr4: \\n\",arr3 * arr4)\n",
    "\n",
    "# 元素级除法\n",
    "print(\"\\n arr3 / arr4: \\n\",arr3 / arr4)\n",
    "\n",
    "# 与标量进行运算\n",
    "print(\"\\n arr3 + 10 \\n\",arr3 + 10)\n",
    "\n",
    "# 其他常用函数：np.sum(), np.mean(), np.max(), np.min(), np.sqrt(), np.exp() 等\n",
    "print(\"\\n Sum of arr3 elements：\\n\",np.sum(arr3))\n",
    "print(\"\\n Mean of arr3 elements：\\n\",np.mean(arr3))\n",
    "print(\"\\n Max number of arr3 elements：\\n\",np.max(arr3))\n",
    "print(\"\\n Sqrt of arr3 elements：\\n\",np.sqrt(arr3))\n"
   ],
   "metadata": {
    "collapsed": false,
    "ExecuteTime": {
     "start_time": "2025-07-27T16:33:13.690634Z",
     "end_time": "2025-07-27T16:33:13.707881Z"
    }
   }
  },
  {
   "cell_type": "markdown",
   "source": [
    "### 4.NumPy 广播机制 (Broadcast) (1 小时)\n",
    "\n",
    "- **学习内容:** 广播是 NumPy 中非常重要的概念，它描述了 NumPy 如何处理形状不同的数组之间的运算。当两个数组的维度不完全匹配时，NumPy 会尝试自动扩展其中一个或两个数组，使其形状兼容，然后进行元素级运算。理解广播机制可以避免很多错误，并写出更简洁的代码。\n",
    "\n",
    "- **规则:**\n",
    "\n",
    "    - 如果两个数组的维度数不同，那么维度较少的数组会沿着其左侧（维度较低的一侧）填充一维，直到两个数组的维度数相同。\n",
    "\n",
    "    - 对于从后往前（或从右往左）遍历的每个维度，如果两个数组在该维度上的大小相同，或者其中一个数组在该维度上的大小为1，则它们是兼容的。\n",
    "\n",
    "    - 如果一个维度上的大小为1，NumPy 会在该维度上沿着它的大小扩展到另一个数组的大小。\n",
    "\n",
    "- **记住:** 只有当两个数组在所有维度上都兼容时，才能进行广播"
   ],
   "metadata": {
    "collapsed": false
   }
  },
  {
   "cell_type": "code",
   "execution_count": 17,
   "outputs": [
    {
     "name": "stdout",
     "output_type": "stream",
     "text": [
      "Matrix:\n",
      " [[1 2 3]\n",
      " [4 5 6]]\n",
      "Vector: [10 20 30]\n",
      "\n",
      "Matrix + Vector (broadcast):\n",
      " [[11 22 33]\n",
      " [14 25 36]]\n",
      "\n",
      "Matrix_a:\n",
      " [[1 2]\n",
      " [3 4]]\n",
      "Col_vector:\n",
      " [[10]\n",
      " [20]]\n",
      "\n",
      "Matrix_a + Col_vector (broadcast):\n",
      " [[11 12]\n",
      " [23 24]]\n"
     ]
    }
   ],
   "source": [
    "# 示例 1: 向量与矩阵相加\n",
    "matrix = np.array([[1, 2, 3], [4, 5, 6]]) # 形状 (2, 3)\n",
    "vector = np.array([10, 20, 30])           # 形状 (3,)\n",
    "\n",
    "# 广播过程：vector 被视为 [[10, 20, 30], [10, 20, 30]] 后进行元素级加法\n",
    "print(\"Matrix:\\n\", matrix)\n",
    "print(\"Vector:\", vector)\n",
    "print(\"\\nMatrix + Vector (broadcast):\\n\", matrix + vector)\n",
    "\n",
    "# 示例 2: 不同形状的矩阵相加 (常见错误和正确理解)\n",
    "matrix_a = np.array([[1, 2], [3, 4]]) # 形状 (2, 2)\n",
    "col_vector = np.array([[10], [20]])  # 形状 (2, 1)\n",
    "\n",
    "# 广播过程：col_vector 被扩展为 [[10, 10], [20, 20]]\n",
    "print(\"\\nMatrix_a:\\n\", matrix_a)\n",
    "print(\"Col_vector:\\n\", col_vector)\n",
    "print(\"\\nMatrix_a + Col_vector (broadcast):\\n\", matrix_a + col_vector)\n"
   ],
   "metadata": {
    "collapsed": false,
    "ExecuteTime": {
     "start_time": "2025-07-27T17:15:30.175592Z",
     "end_time": "2025-07-27T17:15:30.197529Z"
    }
   }
  },
  {
   "cell_type": "markdown",
   "source": [
    "### 线性代数基础\n",
    "\n",
    "- **学习内容:** NumPy 的 np.dot() 或 @ 运算符用于矩阵乘法（点积），**np.linalg** 模块提供了丰富的线性代数函数，如矩阵转置、求逆、行列式、特征值分解、奇异值分解 (SVD) 等。"
   ],
   "metadata": {
    "collapsed": false
   }
  },
  {
   "cell_type": "code",
   "execution_count": 3,
   "outputs": [
    {
     "name": "stdout",
     "output_type": "stream",
     "text": [
      "Matrix A:\n",
      " [[1 2]\n",
      " [3 4]]\n",
      "Matrix B:\n",
      " [[5 6]\n",
      " [7 8]]\n",
      "\n",
      "Matrix A dot B (np.dot):\n",
      " [[19 22]\n",
      " [43 50]]\n",
      "Matrix A @ B (@ operator):\n",
      " [[19 22]\n",
      " [43 50]]\n",
      "\n",
      "Vector dot product: 32\n",
      "\n",
      "Transpose of Matrix A:\n",
      " [[1 3]\n",
      " [2 4]]\n",
      "\n",
      "Inverse of Matrix A:\n",
      " [[-2.   1. ]\n",
      " [ 1.5 -0.5]]\n",
      "A @ A_inv (should be identity):\n",
      " [[1.00000000e+00 1.11022302e-16]\n",
      " [0.00000000e+00 1.00000000e+00]]\n",
      "\n",
      "Determinant of Matrix A: -2.0000000000000004\n",
      "\n",
      "Eigenvalues of Matrix A: [-0.37228132  5.37228132]\n",
      "Eigenvectors of Matrix A:\n",
      " [[-0.82456484 -0.41597356]\n",
      " [ 0.56576746 -0.90937671]]\n",
      "\n",
      "SVD of Matrix A:\n",
      "U:\n",
      " [[-0.40455358 -0.9145143 ]\n",
      " [-0.9145143   0.40455358]]\n",
      "s: [5.4649857  0.36596619]\n",
      "Vh:\n",
      " [[-0.57604844 -0.81741556]\n",
      " [ 0.81741556 -0.57604844]]\n",
      "Reconstructed A:\n",
      " [[1. 2.]\n",
      " [3. 4.]]\n"
     ]
    }
   ],
   "source": [
    "# 矩阵乘法 (点积)\n",
    "matrix_A = np.array([[1, 2], [3, 4]])\n",
    "matrix_B = np.array([[5, 6], [7, 8]])\n",
    "\n",
    "print(\"Matrix A:\\n\", matrix_A)\n",
    "print(\"Matrix B:\\n\", matrix_B)\n",
    "\n",
    "# 使用 np.dot() 进行矩阵乘法\n",
    "print(\"\\nMatrix A dot B (np.dot):\\n\", np.dot(matrix_A, matrix_B))\n",
    "\n",
    "# Python 3.5+ 推荐使用 @ 运算符进行矩阵乘法\n",
    "print(\"Matrix A @ B (@ operator):\\n\", matrix_A @ matrix_B)\n",
    "\n",
    "# 向量点积 (dot product)\n",
    "vec1 = np.array([1, 2, 3])\n",
    "vec2 = np.array([4, 5, 6])\n",
    "print(\"\\nVector dot product:\", np.dot(vec1, vec2))\n",
    "\n",
    "# 矩阵转置 (回顾)\n",
    "print(\"\\nTranspose of Matrix A:\\n\", matrix_A.T)\n",
    "\n",
    "# 矩阵求逆 (只适用于方阵且可逆的矩阵)\n",
    "try:\n",
    "    inv_matrix_A = np.linalg.inv(matrix_A)\n",
    "    print(\"\\nInverse of Matrix A:\\n\", inv_matrix_A)\n",
    "    # 验证：A @ A_inv 应该是一个单位矩阵\n",
    "    print(\"A @ A_inv (should be identity):\\n\", matrix_A @ inv_matrix_A)\n",
    "except np.linalg.LinAlgError:\n",
    "    print(\"\\nMatrix A is singular (不可逆).\")\n",
    "\n",
    "# 行列式\n",
    "det_A = np.linalg.det(matrix_A)\n",
    "print(\"\\nDeterminant of Matrix A:\", det_A)\n",
    "\n",
    "# 特征值和特征向量 (Eigenvalues and Eigenvectors)\n",
    "# 这对于理解 PCA (主成分分析) 和其他降维算法很重要\n",
    "eigenvalues, eigenvectors = np.linalg.eig(matrix_A)\n",
    "print(\"\\nEigenvalues of Matrix A:\", eigenvalues)\n",
    "print(\"Eigenvectors of Matrix A:\\n\", eigenvectors)\n",
    "\n",
    "# 奇异值分解 (Singular Value Decomposition - SVD)\n",
    "# SVD 是张量分解（特别是广义的张量 SVD）的基础，非常重要！\n",
    "U, s, Vh = np.linalg.svd(matrix_A)\n",
    "print(\"\\nSVD of Matrix A:\")\n",
    "print(\"U:\\n\", U)      # 左奇异向量\n",
    "print(\"s:\", s)       # 奇异值 (一维数组)\n",
    "print(\"Vh:\\n\", Vh)    # 右奇异向量的共轭转置\n",
    "# 我们可以用 U, s, Vh 重构原始矩阵 A\n",
    "# s 需要转换为对角矩阵\n",
    "sigma = np.zeros((matrix_A.shape[0], matrix_A.shape[1]))\n",
    "sigma[:matrix_A.shape[0], :matrix_A.shape[0]] = np.diag(s)\n",
    "reconstructed_A = U @ sigma @ Vh\n",
    "print(\"Reconstructed A:\\n\", reconstructed_A)"
   ],
   "metadata": {
    "collapsed": false,
    "ExecuteTime": {
     "start_time": "2025-08-01T14:54:00.542273Z",
     "end_time": "2025-08-01T14:54:01.335507Z"
    }
   }
  }
 ],
 "metadata": {
  "kernelspec": {
   "display_name": "Python 3 (ipykernel)",
   "language": "python",
   "name": "python3"
  },
  "language_info": {
   "codemirror_mode": {
    "name": "ipython",
    "version": 3
   },
   "file_extension": ".py",
   "mimetype": "text/x-python",
   "name": "python",
   "nbconvert_exporter": "python",
   "pygments_lexer": "ipython3",
   "version": "3.9.21"
  }
 },
 "nbformat": 4,
 "nbformat_minor": 1
}
